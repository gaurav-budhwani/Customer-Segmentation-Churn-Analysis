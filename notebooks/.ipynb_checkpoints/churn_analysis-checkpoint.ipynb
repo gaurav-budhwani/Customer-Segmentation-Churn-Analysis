{
 "cells": [
  {
   "cell_type": "markdown",
   "metadata": {},
   "source": [
    "# Customer Churn Analysis\n",
    "\n",
    "This notebook performs comprehensive analysis of customer churn patterns including:\n",
    "- Exploratory Data Analysis (EDA)\n",
    "- Churn prediction modeling\n",
    "- Customer segmentation\n",
    "- Feature importance analysis"
   ]
  },
  {
   "cell_type": "code",
   "execution_count": null,
   "metadata": {},
   "outputs": [],
   "source": [
    "# Import required libraries\n",
    "import pandas as pd\n",
    "import numpy as np\n",
    "import matplotlib.pyplot as plt\n",
    "import seaborn as sns\n",
    "import plotly.express as px\n",
    "import plotly.graph_objects as go\n",
    "from plotly.subplots import make_subplots\n",
    "\n",
    "# Machine learning imports\n",
    "from sklearn.model_selection import train_test_split, cross_val_score, GridSearchCV\n",
    "from sklearn.preprocessing import StandardScaler, LabelEncoder\n",
    "from sklearn.linear_model import LogisticRegression\n",
    "from sklearn.ensemble import RandomForestClassifier\n",
    "from sklearn.cluster import KMeans\n",
    "from sklearn.metrics import classification_report, confusion_matrix, roc_auc_score, roc_curve\n",
    "\n",
    "# Custom imports\n",
    "import sys\n",
    "sys.path.append('../src')\n",
    "from data_loader import ChurnDataLoader\n",
    "\n",
    "# Set style\n",
    "plt.style.use('seaborn-v0_8')\n",
    "sns.set_palette(\"husl\")\n",
    "\n",
    "# Suppress warnings\n",
    "import warnings\n",
    "warnings.filterwarnings('ignore')"
   ]
  },
  {
   "cell_type": "markdown",
   "metadata": {},
   "source": [
    "## 1. Data Loading and Initial Exploration"
   ]
  },
  {
   "cell_type": "code",
   "execution_count": null,
   "metadata": {},
   "outputs": [],
   "source": [
    "# Load data\n",
    "loader = ChurnDataLoader()\n",
    "df_raw = loader.load_telco_data()\n",
    "\n",
    "if df_raw is not None:\n",
    "    print(\"Dataset shape:\", df_raw.shape)\n",
    "    print(\"\\nFirst few rows:\")\n",
    "    display(df_raw.head())\n",
    "    \n",
    "    print(\"\\nDataset info:\")\n",
    "    df_raw.info()"
   ]
  },
  {
   "cell_type": "code",
   "execution_count": null,
   "metadata": {},
   "outputs": [],
   "source": [
    "# Preprocess data\n",
    "df = loader.preprocess_data(df_raw)\n",
    "\n",
    "# Get data summary\n",
    "summary = loader.get_data_summary(df)\n",
    "print(\"Data Summary:\")\n",
    "for key, value in summary.items():\n",
    "    if key != 'missing_values':\n",
    "        print(f\"{key}: {value}\")\n",
    "\n",
    "print(\"\\nMissing values:\")\n",
    "missing_vals = df.isnull().sum()\n",
    "print(missing_vals[missing_vals > 0])"
   ]
  },
  {
   "cell_type": "markdown",
   "metadata": {},
   "source": [
    "## 2. Exploratory Data Analysis"
   ]
  },
  {
   "cell_type": "code",
   "execution_count": null,
   "metadata": {},
   "outputs": [],
   "source": [
    "# Churn distribution\n",
    "fig, axes = plt.subplots(1, 2, figsize=(15, 5))\n",
    "\n",
    "# Churn count\n",
    "churn_counts = df['Churn'].value_counts()\n",
    "axes[0].pie(churn_counts.values, labels=['No Churn', 'Churn'], autopct='%1.1f%%', startangle=90)\n",
    "axes[0].set_title('Customer Churn Distribution')\n",
    "\n",
    "# Churn by tenure\n",
    "sns.boxplot(data=df, x='Churn', y='tenure', ax=axes[1])\n",
    "axes[1].set_title('Tenure Distribution by Churn Status')\n",
    "axes[1].set_xlabel('Churn (0=No, 1=Yes)')\n",
    "\n",
    "plt.tight_layout()\n",
    "plt.show()"
   ]
  },
  {
   "cell_type": "code",
   "execution_count": null,
   "metadata": {},
   "outputs": [],
   "source": [
    "# High-paying vs Low-paying customer analysis\n",
    "# Define spending segments\n",
    "df['SpendingSegment'] = pd.cut(df['MonthlyCharges'], \n",
    "                              bins=[0, 35, 65, float('inf')], \n",
    "                              labels=['Low Spender', 'Medium Spender', 'High Spender'])\n",
    "\n",
    "# Churn analysis by spending segment\n",
    "spending_churn = df.groupby('SpendingSegment')['Churn'].agg(['count', 'sum', 'mean']).reset_index()\n",
    "spending_churn.columns = ['SpendingSegment', 'TotalCustomers', 'ChurnedCustomers', 'ChurnRate']\n",
    "spending_churn['ChurnRate'] = spending_churn['ChurnRate'] * 100\n",
    "\n",
    "print(\"Churn Analysis by Spending Segment:\")\n",
    "display(spending_churn)\n",
    "\n",
    "# Visualization\n",
    "fig, axes = plt.subplots(1, 2, figsize=(15, 5))\n",
    "\n",
    "# Churn rate by spending segment\n",
    "sns.barplot(data=spending_churn, x='SpendingSegment', y='ChurnRate', ax=axes[0])\n",
    "axes[0].set_title('Churn Rate by Spending Segment')\n",
    "axes[0].set_ylabel('Churn Rate (%)')\n",
    "\n",
    "# Customer distribution by spending segment\n",
    "sns.barplot(data=spending_churn, x='SpendingSegment', y='TotalCustomers', ax=axes[1])\n",
    "axes[1].set_title('Customer Distribution by Spending Segment')\n",
    "axes[1].set_ylabel('Number of Customers')\n",
    "\n",
    "plt.tight_layout()\n",
    "plt.show()"
   ]
  },
  {
   "cell_type": "markdown",
   "metadata": {},
   "source": [
    "## 3. Contract and Service Analysis"
   ]
  },
  {
   "cell_type": "code",
   "execution_count": null,
   "metadata": {},
   "outputs": [],
   "source": [
    "# Contract type analysis\n",
    "contract_analysis = df.groupby(['Contract', 'Churn']).size().unstack(fill_value=0)\n",
    "contract_analysis['ChurnRate'] = contract_analysis[1] / (contract_analysis[0] + contract_analysis[1]) * 100\n",
    "\n",
    "print(\"Churn Analysis by Contract Type:\")\n",
    "display(contract_analysis)\n",
    "\n",
    "# Internet service analysis\n",
    "internet_analysis = df.groupby(['InternetService', 'Churn']).size().unstack(fill_value=0)\n",
    "internet_analysis['ChurnRate'] = internet_analysis[1] / (internet_analysis[0] + internet_analysis[1]) * 100\n",
    "\n",
    "print(\"\\nChurn Analysis by Internet Service:\")\n",
    "display(internet_analysis)"
   ]
  },
  {
   "cell_type": "markdown",
   "metadata": {},
   "source": [
    "## 2. Exploratory Data Analysis"
   ]
  },
  {
   "cell_type": "code",
   "execution_count": null,
   "metadata": {},
   "outputs": [],
   "source": [
    "# Churn distribution\n",
    "fig, axes = plt.subplots(1, 2, figsize=(15, 5))\n",
    "\n",
    "# Churn count\n",
    "churn_counts = df['Churn'].value_counts()\n",
    "axes[0].pie(churn_counts.values, labels=['No Churn', 'Churn'], autopct='%1.1f%%', startangle=90)\n",
    "axes[0].set_title('Customer Churn Distribution')\n",
    "\n",
    "# Churn by tenure\n",
    "sns.boxplot(data=df, x='Churn', y='tenure', ax=axes[1])\n",
    "axes[1].set_title('Tenure Distribution by Churn Status')\n",
    "axes[1].set_xlabel('Churn (0=No, 1=Yes)')\n",
    "\n",
    "plt.tight_layout()\n",
    "plt.show()"
   ]
  },
  {
   "cell_type": "markdown",
   "metadata": {},
   "source": [
    "## 4. Machine Learning - Churn Prediction"
   ]
  },
  {
   "cell_type": "code",
   "execution_count": null,
   "metadata": {},
   "outputs": [],
   "source": [
    "# Prepare data for machine learning\n",
    "# Select features for modeling\n",
    "categorical_features = ['gender', 'Partner', 'Dependents', 'PhoneService', 'MultipleLines',\n",
    "                       'InternetService', 'OnlineSecurity', 'OnlineBackup', 'DeviceProtection',\n",
    "                       'TechSupport', 'StreamingTV', 'StreamingMovies', 'Contract',\n",
    "                       'PaperlessBilling', 'PaymentMethod']\n",
    "\n",
    "numerical_features = ['SeniorCitizen', 'tenure', 'MonthlyCharges', 'TotalCharges']\n",
    "\n",
    "# Create feature matrix\n",
    "df_model = df.copy()\n",
    "\n",
    "# Encode categorical variables\n",
    "le_dict = {}\n",
    "for col in categorical_features:\n",
    "    le = LabelEncoder()\n",
    "    df_model[col] = le.fit_transform(df_model[col].astype(str))\n",
    "    le_dict[col] = le\n",
    "\n",
    "# Prepare features and target\n",
    "X = df_model[categorical_features + numerical_features]\n",
    "y = df_model['Churn']\n",
    "\n",
    "# Split data\n",
    "X_train, X_test, y_train, y_test = train_test_split(X, y, test_size=0.2, random_state=42, stratify=y)\n",
    "\n",
    "# Scale numerical features\n",
    "scaler = StandardScaler()\n",
    "X_train_scaled = X_train.copy()\n",
    "X_test_scaled = X_test.copy()\n",
    "X_train_scaled[numerical_features] = scaler.fit_transform(X_train[numerical_features])\n",
    "X_test_scaled[numerical_features] = scaler.transform(X_test[numerical_features])\n",
    "\n",
    "print(f\"Training set shape: {X_train.shape}\")\n",
    "print(f\"Test set shape: {X_test.shape}\")\n",
    "print(f\"Churn rate in training set: {y_train.mean():.2%}\")"
   ]
  },
  {
   "cell_type": "code",
   "execution_count": null,
   "metadata": {},
   "outputs": [],
   "source": [
    "# Logistic Regression Model\n",
    "lr_model = LogisticRegression(random_state=42, max_iter=1000)\n",
    "lr_model.fit(X_train_scaled, y_train)\n",
    "\n",
    "# Random Forest Model\n",
    "rf_model = RandomForestClassifier(n_estimators=100, random_state=42)\n",
    "rf_model.fit(X_train, y_train)\n",
    "\n",
    "# Predictions\n",
    "lr_pred = lr_model.predict(X_test_scaled)\n",
    "rf_pred = rf_model.predict(X_test)\n",
    "\n",
    "lr_pred_proba = lr_model.predict_proba(X_test_scaled)[:, 1]\n",
    "rf_pred_proba = rf_model.predict_proba(X_test)[:, 1]\n",
    "\n",
    "# Model evaluation\n",
    "print(\"Logistic Regression Results:\")\n",
    "print(f\"Accuracy: {lr_model.score(X_test_scaled, y_test):.3f}\")\n",
    "print(f\"AUC-ROC: {roc_auc_score(y_test, lr_pred_proba):.3f}\")\n",
    "print(\"\\nClassification Report:\")\n",
    "print(classification_report(y_test, lr_pred))\n",
    "\n",
    "print(\"\\n\" + \"=\"*50)\n",
    "print(\"Random Forest Results:\")\n",
    "print(f\"Accuracy: {rf_model.score(X_test, y_test):.3f}\")\n",
    "print(f\"AUC-ROC: {roc_auc_score(y_test, rf_pred_proba):.3f}\")\n",
    "print(\"\\nClassification Report:\")\n",
    "print(classification_report(y_test, rf_pred))"
   ]
  },
  {
   "cell_type": "markdown",
   "metadata": {},
   "source": [
    "## 5. Feature Importance Analysis"
   ]
  },
  {
   "cell_type": "code",
   "execution_count": null,
   "metadata": {},
   "outputs": [],
   "source": [
    "# Feature importance from Random Forest\n",
    "feature_importance = pd.DataFrame({\n",
    "    'feature': X.columns,\n",
    "    'importance': rf_model.feature_importances_\n",
    "}).sort_values('importance', ascending=False)\n",
    "\n",
    "# Plot feature importance\n",
    "plt.figure(figsize=(12, 8))\n",
    "sns.barplot(data=feature_importance.head(15), y='feature', x='importance')\n",
    "plt.title('Top 15 Feature Importance (Random Forest)')\n",
    "plt.xlabel('Importance')\n",
    "plt.tight_layout()\n",
    "plt.show()\n",
    "\n",
    "print(\"Top 10 Most Important Features:\")\n",
    "display(feature_importance.head(10))"
   ]
  },
  {
   "cell_type": "markdown",
   "metadata": {},
   "source": [
    "## 6. Customer Segmentation with KMeans"
   ]
  },
  {
   "cell_type": "code",
   "execution_count": null,
   "metadata": {},
   "outputs": [],
   "source": [
    "# Prepare data for clustering\n",
    "clustering_features = ['tenure', 'MonthlyCharges', 'TotalCharges', 'SeniorCitizen']\n",
    "X_cluster = df[clustering_features].copy()\n",
    "\n",
    "# Scale features for clustering\n",
    "scaler_cluster = StandardScaler()\n",
    "X_cluster_scaled = scaler_cluster.fit_transform(X_cluster)\n",
    "\n",
    "# Determine optimal number of clusters using elbow method\n",
    "inertias = []\n",
    "k_range = range(2, 11)\n",
    "\n",
    "for k in k_range:\n",
    "    kmeans = KMeans(n_clusters=k, random_state=42)\n",
    "    kmeans.fit(X_cluster_scaled)\n",
    "    inertias.append(kmeans.inertia_)\n",
    "\n",
    "# Plot elbow curve\n",
    "plt.figure(figsize=(10, 6))\n",
    "plt.plot(k_range, inertias, 'bo-')\n",
    "plt.xlabel('Number of Clusters (k)')\n",
    "plt.ylabel('Inertia')\n",
    "plt.title('Elbow Method for Optimal k')\n",
    "plt.grid(True)\n",
    "plt.show()\n",
    "\n",
    "# Apply KMeans with optimal k (let's use 4 clusters)\n",
    "optimal_k = 4\n",
    "kmeans = KMeans(n_clusters=optimal_k, random_state=42)\n",
    "df['Cluster'] = kmeans.fit_predict(X_cluster_scaled)\n",
    "\n",
    "print(f\"Customer segmentation completed with {optimal_k} clusters\")"
   ]
  },
  {
   "cell_type": "code",
   "execution_count": null,
   "metadata": {},
   "outputs": [],
   "source": [
    "# Analyze clusters\n",
    "cluster_analysis = df.groupby('Cluster').agg({\n",
    "    'customerID': 'count',\n",
    "    'Churn': ['sum', 'mean'],\n",
    "    'tenure': 'mean',\n",
    "    'MonthlyCharges': 'mean',\n",
    "    'TotalCharges': 'mean',\n",
    "    'SeniorCitizen': 'mean'\n",
    "}).round(2)\n",
    "\n",
    "cluster_analysis.columns = ['CustomerCount', 'ChurnedCustomers', 'ChurnRate', \n",
    "                           'AvgTenure', 'AvgMonthlyCharges', 'AvgTotalCharges', 'SeniorCitizenRate']\n",
    "\n",
    "print(\"Cluster Analysis:\")\n",
    "display(cluster_analysis)\n",
    "\n",
    "# Visualize clusters\n",
    "fig, axes = plt.subplots(2, 2, figsize=(15, 12))\n",
    "\n",
    "# Cluster by tenure and monthly charges\n",
    "scatter = axes[0,0].scatter(df['tenure'], df['MonthlyCharges'], c=df['Cluster'], cmap='viridis', alpha=0.6)\n",
    "axes[0,0].set_xlabel('Tenure (months)')\n",
    "axes[0,0].set_ylabel('Monthly Charges')\n",
    "axes[0,0].set_title('Customer Clusters: Tenure vs Monthly Charges')\n",
    "plt.colorbar(scatter, ax=axes[0,0])\n",
    "\n",
    "# Churn rate by cluster\n",
    "sns.barplot(data=cluster_analysis.reset_index(), x='Cluster', y='ChurnRate', ax=axes[0,1])\n",
    "axes[0,1].set_title('Churn Rate by Cluster')\n",
    "axes[0,1].set_ylabel('Churn Rate')\n",
    "\n",
    "# Customer count by cluster\n",
    "sns.barplot(data=cluster_analysis.reset_index(), x='Cluster', y='CustomerCount', ax=axes[1,0])\n",
    "axes[1,0].set_title('Customer Count by Cluster')\n",
    "axes[1,0].set_ylabel('Number of Customers')\n",
    "\n",
    "# Average monthly charges by cluster\n",
    "sns.barplot(data=cluster_analysis.reset_index(), x='Cluster', y='AvgMonthlyCharges', ax=axes[1,1])\n",
    "axes[1,1].set_title('Average Monthly Charges by Cluster')\n",
    "axes[1,1].set_ylabel('Average Monthly Charges')\n",
    "\n",
    "plt.tight_layout()\n",
    "plt.show()"
   ]
  }
 ],
 "metadata": {
  "kernelspec": {
   "display_name": "Python 3",
   "language": "python",
   "name": "python3"
  },
  "language_info": {
   "codemirror_mode": {
    "name": "ipython",
    "version": 3
   },
   "file_extension": ".py",
   "name": "python",
   "nbconvert_exporter": "python",
   "pygments_lexer": "ipython3",
   "version": "3.8.0"
  }
 },
 "nbformat": 4,
 "nbformat_minor": 4
}
